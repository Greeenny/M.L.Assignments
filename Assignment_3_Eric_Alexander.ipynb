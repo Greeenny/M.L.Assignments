{
 "cells": [
  {
   "cell_type": "markdown",
   "metadata": {
    "id": "9aKr4SC0U-kn"
   },
   "source": [
    "# Assignment 3: Classification with Logistic Regression\n",
    "\n",
    "# Total: /100\n",
    "\n",
    "## Instructions\n",
    "\n",
    "* Complete the assignment\n",
    "\n",
    "* Once the notebook is complete, restart your kernel and rerun your cells\n",
    "\n",
    "* Submit this notebook to owl by the deadline\n",
    "\n",
    "* You may use any python library functions you wish to complete the assignment.\n",
    "\n",
    "## The Dataset\n",
    "\n",
    "The goal of our classifier is to predict, using a logistic regression, if a patient may take a certain drug.\n",
    "\n",
    "The dataset contains both numerical and categorical input variables, while the response variable ('Drug') has multiple levels. To simplify our analysis here, we focus on predicting if a patient may take \"Drug-Y\"."
   ]
  },
  {
   "cell_type": "code",
   "execution_count": 1,
   "metadata": {
    "id": "oYk5_SCPU-kw"
   },
   "outputs": [],
   "source": [
    "# You may need these\n",
    "import pandas as pd\n",
    "import seaborn as sns\n",
    "\n",
    "import numpy as np\n",
    "from sklearn.model_selection import train_test_split\n",
    "from sklearn.linear_model import LogisticRegression, SGDClassifier\n",
    "from sklearn.metrics import confusion_matrix, roc_curve, precision_recall_curve, auc, classification_report\n",
    "from sklearn.preprocessing import StandardScaler\n",
    "from sklearn.pipeline import make_pipeline\n",
    "import matplotlib.pyplot as plt\n",
    "seed=0\n",
    "%matplotlib inline"
   ]
  },
  {
   "cell_type": "markdown",
   "metadata": {
    "id": "axyFmaF8U-kz"
   },
   "source": [
    "## Question 1: /18 pts"
   ]
  },
  {
   "cell_type": "markdown",
   "metadata": {
    "id": "Gm0M4J0WU-k3"
   },
   "source": [
    "1. Read in the `drug.csv` dataset and display the first 5 rows.\n",
    "2. Print out all columns in the dataset and list categorical variables. Use the build-in function `get_dummies()` to convert all categorical variables (**exclude Drug variable**) to dummy variables. You may read the official explanations for more information on `get_dummies()` [here](https://pandas.pydata.org/docs/reference/api/pandas.get_dummies.html). What's the size of the dataframe after transforming it?\n",
    "3. Map the target values from yes/no to 1/0. What is the baseline accuracy for this classification problem? Round into 1 decimal place (for example, 50.1% or 0.501)."
   ]
  },
  {
   "cell_type": "markdown",
   "metadata": {
    "id": "2cNADOoXU-k6"
   },
   "source": [
    "1.1 Read the dataset and display the first 8 rows, and print out all columns in the dataset and **list** all categorical variables in the answer part."
   ]
  },
  {
   "cell_type": "code",
   "execution_count": 2,
   "metadata": {
    "id": "wAV0h1zoU-k8"
   },
   "outputs": [
    {
     "name": "stdout",
     "output_type": "stream",
     "text": [
      "The first 8 rows: \n",
      "    Age Sex      BP Cholesterol  Na_to_K   Drug\n",
      "0   23   F    HIGH        HIGH   25.355  DrugY\n",
      "1   47   M     LOW        HIGH   13.093  DrugY\n",
      "2   47   M     LOW        HIGH   10.114  DrugY\n",
      "3   28   F  NORMAL        HIGH    7.798  drugX\n",
      "4   61   F     LOW        HIGH   18.043  DrugY\n",
      "\n",
      "The columns: \n",
      " ['Age' 'Sex' 'BP' 'Cholesterol' 'Na_to_K' 'Drug']\n",
      "\n",
      "The columns with catagorical variables: \n",
      "   Sex      BP Cholesterol   Drug\n",
      "0   F    HIGH        HIGH  DrugY\n",
      "1   M     LOW        HIGH  DrugY\n",
      "2   M     LOW        HIGH  DrugY\n",
      "3   F  NORMAL        HIGH  drugX\n",
      "4   F     LOW        HIGH  DrugY\n"
     ]
    }
   ],
   "source": [
    "# Question 1.1 code here\n",
    "\n",
    "#Dataset is read and already prepped as was described in Q.1.\n",
    "\n",
    "df = pd.read_csv(\"drug.csv\")\n",
    "\n",
    "print(\"The first 8 rows: \\n\",df.head(5))\n",
    "print(\"\\nThe columns: \\n\",df.columns.values)\n",
    "print(\"\\nThe columns with catagorical variables: \\n\",df.select_dtypes(include=['object']).head())\n",
    "\n",
    "#5 pts"
   ]
  },
  {
   "cell_type": "markdown",
   "metadata": {
    "id": "yL9tqfndpRbI"
   },
   "source": [
    "**YOUR ANSWER HERE:** [1pt] \n",
    "The Catagorical variables, as displayed above, are Sex, Blood Pressure, Cholesterol, and Drug type taken."
   ]
  },
  {
   "cell_type": "markdown",
   "metadata": {
    "id": "S2W98Z97mfxI"
   },
   "source": [
    "1.2 Check that is any there missing value in each column of the dataset.  "
   ]
  },
  {
   "cell_type": "code",
   "execution_count": 3,
   "metadata": {
    "id": "GLp-EpaFnIYm"
   },
   "outputs": [
    {
     "name": "stdout",
     "output_type": "stream",
     "text": [
      "Age            0\n",
      "Sex            3\n",
      "BP             0\n",
      "Cholesterol    0\n",
      "Na_to_K        0\n",
      "Drug           0\n",
      "dtype: int64\n"
     ]
    }
   ],
   "source": [
    "# Question 1.2 code here\n",
    "nan_values = df.isna()\n",
    "print(nan_values.sum())\n",
    "#2 pts"
   ]
  },
  {
   "cell_type": "markdown",
   "metadata": {
    "id": "YTIk_tnonYFR"
   },
   "source": [
    "1.3 Replace all the missing values in **Sex** to be 'M'."
   ]
  },
  {
   "cell_type": "code",
   "execution_count": 4,
   "metadata": {
    "id": "J6s1do3KoOmU"
   },
   "outputs": [],
   "source": [
    "# Question 1.3 code here\n",
    "df = df.fillna(\"M\")\n",
    "#2 pts"
   ]
  },
  {
   "cell_type": "markdown",
   "metadata": {
    "id": "3UXEH2aKU-k-"
   },
   "source": [
    "1.4 Use the build-in function `get_dummies()` to convert all categorical variables (**excluding `Drug` variable**) to dummy variables. What's the size of the dataframe after transforming?"
   ]
  },
  {
   "cell_type": "code",
   "execution_count": 5,
   "metadata": {
    "id": "J-dsj9mrU-lA",
    "scrolled": true
   },
   "outputs": [
    {
     "name": "stdout",
     "output_type": "stream",
     "text": [
      "\n",
      "Size of catagorical variable dummy dataframe is:  (200, 10)\n"
     ]
    }
   ],
   "source": [
    "# Question 1.4 code here\n",
    "#Drops Drug, gets dummies of rest, then concats drug back on.\n",
    "dfC = pd.get_dummies(df.drop(\"Drug\",axis = 1))\n",
    "dfC = pd.concat([dfC,df.Drug],axis = 1)\n",
    "print(\"\\nSize of catagorical variable dummy dataframe is: \", dfC.shape)\n",
    "\n",
    "\n",
    "#2 pts"
   ]
  },
  {
   "cell_type": "markdown",
   "metadata": {
    "id": "krlMrqnIU-lK"
   },
   "source": [
    "**YOUR ANSWER HERE:** [1pt] As posted above, the size of the dummy dataframe is 200 rows and 10 columns"
   ]
  },
  {
   "cell_type": "markdown",
   "metadata": {
    "id": "DbsurWVJq7IY"
   },
   "source": [
    "1.5 Transform all the labels that are 'DrugY' in **`Drug`** to be value 1, otherwise, to be 0. Then transform the type of **`Drug`** to be 'int'.\n"
   ]
  },
  {
   "cell_type": "code",
   "execution_count": 6,
   "metadata": {
    "id": "XeNDEYoxrkZr"
   },
   "outputs": [],
   "source": [
    "# Question 1.5 code here\n",
    "#Formats drug as expected. Replaces DrugY w/ 1\n",
    "#Then anything that isn't 1 becomes 0.\n",
    "#Sets type to int to help later.\n",
    "\n",
    "dfC.Drug.replace({\"DrugY\":1},inplace = True)\n",
    "dfC.loc[dfC.Drug != 1,['Drug']] = 0\n",
    "dfC.Drug = dfC.Drug.astype('int')\n",
    "#2 pts"
   ]
  },
  {
   "cell_type": "markdown",
   "metadata": {
    "id": "0LORXe5nU-lL"
   },
   "source": [
    "1.6. What is the baseline accuracy for this classification problem? Round into 1 decimal place (for example, 0.2)."
   ]
  },
  {
   "cell_type": "code",
   "execution_count": 7,
   "metadata": {
    "id": "1tDl3SaGU-lL"
   },
   "outputs": [
    {
     "name": "stdout",
     "output_type": "stream",
     "text": [
      "\n",
      "The baseline accuracy is equal to: 0.51\n"
     ]
    }
   ],
   "source": [
    "# Your code here\n",
    "#Save baseline for later\n",
    "baseline = round(dfC.Drug.mean(),4)\n",
    "print(f\"\\nThe baseline accuracy is equal to: {baseline}\")\n",
    "#2 pts"
   ]
  },
  {
   "cell_type": "markdown",
   "metadata": {
    "id": "GpiZmxAtU-lQ"
   },
   "source": [
    "**YOUR ANSWER HERE:** [1pt] \n",
    "\n",
    "The baseline accuracy is 0.51!"
   ]
  },
  {
   "cell_type": "markdown",
   "metadata": {
    "id": "svT8YoBjU-lR"
   },
   "source": [
    "## Question 2: /7 pts\n",
    "\n",
    "Split the data into train and test for the outcome/response and the predictor variables. Hold out 25% of observations as the test set.  Pass `random_state=11` to `train_test_split` to ensure you get the same train and tests sets as the solution. Your dependent variable in the the dataset is named as `Drug`. How many patients who take \"DrugY\" in the train dataset and test dataset, respectively?"
   ]
  },
  {
   "cell_type": "code",
   "execution_count": 8,
   "metadata": {
    "id": "ZabWhfKqU-lS"
   },
   "outputs": [
    {
     "name": "stdout",
     "output_type": "stream",
     "text": [
      "In the training data we have 76 patients taking DrugY. \n",
      "In the test data we have 26.\n"
     ]
    }
   ],
   "source": [
    "# Question 2 code here.\n",
    "\n",
    "#Breaks up x and y then splits them as directed.\n",
    "y = dfC.Drug.values\n",
    "X = dfC.drop('Drug',axis='columns').values\n",
    "X_train, X_test, y_train, y_test = train_test_split(X, y, test_size=0.25, random_state=11)\n",
    "\n",
    "#Sums the values asked for.\n",
    "print(f\"In the training data we have {y_train.sum()} patients taking DrugY. \\nIn the test data we have {y_test.sum()}.\")\n",
    "\n",
    "#6 pts correct code"
   ]
  },
  {
   "cell_type": "markdown",
   "metadata": {
    "id": "04g5eqFb4UHe"
   },
   "source": [
    "**YOUR ANSWER HERE:** [1pt] Using the random seed 11, we find the values above."
   ]
  },
  {
   "cell_type": "markdown",
   "metadata": {
    "id": "o-NwTJR2U-lU"
   },
   "source": [
    "## Question 3: /20 pts"
   ]
  },
  {
   "cell_type": "markdown",
   "metadata": {
    "id": "OrQkrgnKU-lV"
   },
   "source": [
    "3.1 Create a instance of sklearn's `LogisticRegression` object for **unpenalized** logistic regression.\n",
    "Using this object, **run a logisitic regression analysis** of `Drug` (y-variable) against `Age` and `Na_to_K` (x-variables) using your training data. Report the parameters (variables and intercept) of your model as indicated with the `print` function."
   ]
  },
  {
   "cell_type": "code",
   "execution_count": 9,
   "metadata": {
    "id": "upgKwmOMU-lV"
   },
   "outputs": [
    {
     "name": "stdout",
     "output_type": "stream",
     "text": [
      "Intercept:\n",
      "[-8.72]\n",
      "Coefficients:\n",
      "[[-0.011  0.658]]\n"
     ]
    }
   ],
   "source": [
    "# Question 3 code here\n",
    "\n",
    "#Breaks up X into just age and na to K\n",
    "age_na_train = np.c_[X_train[:,0],X_train[:,1]] #Takes age and Na_to_K values\n",
    "age_na_test = np.c_[X_test[:, 0], X_test[:, 1]] #Does same but for the test\n",
    "\n",
    "#Creates the LR and fits it.\n",
    "drugLR = LogisticRegression(penalty='none')\n",
    "drugLR.fit(age_na_train,y_train)\n",
    "\n",
    "#Prints intercept / coeff of the LR ^^\n",
    "print(f\"Intercept:\\n{drugLR.intercept_.round(3)}\\nCoefficients:\\n{drugLR.coef_.round(3)}\")\n",
    "\n",
    "#10 pts "
   ]
  },
  {
   "cell_type": "markdown",
   "metadata": {
    "id": "kheT1mJBU-lY"
   },
   "source": [
    "3.2 Compute 4 label-based criteria, namely, 'Accuracy', 'Precision', 'Sensitivity' and 'Specificity' for your two variables only classifier **using the test data** (Round into 4 decimal place). Use a threshold of 0.5. Answer the questions in this text box below."
   ]
  },
  {
   "cell_type": "code",
   "execution_count": 10,
   "metadata": {
    "id": "YeCznyblU-la"
   },
   "outputs": [],
   "source": [
    "## Put code here to compute criteria:\n",
    "def compute_performance_classifiers(ypred,y,classes):\n",
    "    #First, get true positives, true negatives, false positives, and false negatives:\n",
    "    tp = sum(np.logical_and(ypred == classes[1], y == classes[1]))\n",
    "    tn = sum(np.logical_and(ypred == classes[0], y == classes[0]))\n",
    "    fp = sum(np.logical_and(ypred == classes[1], y == classes[0]))\n",
    "    fn = sum(np.logical_and(ypred == classes[0], y == classes[1]))\n",
    "    print(f\"True Positives: {tp} \\nTrue Negatives: {tn}\\nFalse Positives: {fp}\\nFalse Negatives: {fn}\") \n",
    "    #using these, we calculate the classifiers. \n",
    "    #Accuracy\n",
    "    acc = (tp + tn) / (tp + tn + fp + fn) \n",
    "    # Precision\n",
    "    precision = tp / (tp + fp) \n",
    "    recall = tp / (tp + fn) \n",
    "    # Sensitivity\n",
    "    sensitivity = recall \n",
    "    # Specificity\n",
    "    specificity = tn / (fp + tn) \n",
    "    # Print results\n",
    "    print(f\"Accuracy: {round(acc,4)} Recall: {round(recall,4)} Sensitivity: {round(sensitivity,4)} Specificity: {round(specificity,4)}\") \n",
    "\n",
    "#5 pts"
   ]
  },
  {
   "cell_type": "code",
   "execution_count": 11,
   "metadata": {
    "id": "RVHdh8JPU-lb"
   },
   "outputs": [
    {
     "name": "stdout",
     "output_type": "stream",
     "text": [
      "True Positives: 25 \n",
      "True Negatives: 22\n",
      "False Positives: 2\n",
      "False Negatives: 1\n",
      "Accuracy: 0.94 Recall: 0.9615 Sensitivity: 0.9615 Specificity: 0.9167\n",
      "Baseline Accuracy: 0.51\n"
     ]
    }
   ],
   "source": [
    "## Put the code you need to answer the following questions.\n",
    "#Set threshold\n",
    "threshold = 0.5\n",
    "\n",
    "#Finds probability of y's, then uses the threshold to create\n",
    "#a level of confidence in our probability. If p(+) < 0.5, we assume (-) outcome\n",
    "y_test_prob = drugLR.predict_proba(age_na_test)\n",
    "y_prob = drugLR.classes_[(y_test_prob[:,1]>threshold).astype(int)]\n",
    "\n",
    "#Prints findings\n",
    "compute_performance_classifiers(y_prob,y_test,drugLR.classes_)\n",
    "print(f\"Baseline Accuracy: {baseline}\")\n",
    "\n",
    "#2 pts"
   ]
  },
  {
   "cell_type": "markdown",
   "metadata": {
    "id": "ZUGuT8L1U-lb"
   },
   "source": [
    "* How many of the test instances are labeled positive by your classifier?\n",
    "\n",
    "**YOUR ANSWER HERE:**[1 pt] We have 27 positive predictions.\n",
    "\n",
    "* Does this classifier reach the baseline accuracy?\n",
    "\n",
    "**YOUR ANSWER HERE:** [1 pt] \n",
    "Yes, it surpasses the baseline accuracy by a considerable margin.\n",
    "\n",
    "* Is this classifier useful for classifying drug-Y? Explain in one or two sentences using the performance matrix results.\n",
    "\n",
    "**YOUR ANSWER HERE:**[1 pt] \n",
    "\n",
    "This seems like a highly effective classifier for classifying Drug-Y. Across  all the performance stats found, the classifier excells."
   ]
  },
  {
   "cell_type": "markdown",
   "metadata": {
    "id": "9mq1cndaU-lc"
   },
   "source": [
    "## Question 4: /8 pts\n",
    "Now with default penalty method, fit two logistic regression models using tuning parameter $C=0.1$ and $C=1$ to the training data and include all the variables in the data frame (except for `Drug`) in the cell below. You will want to make new objects like you did for the simpler model. Print the parameters (variables and intercept) you obtain, respectively."
   ]
  },
  {
   "cell_type": "code",
   "execution_count": 12,
   "metadata": {
    "id": "BiH4XfJHU-le"
   },
   "outputs": [
    {
     "name": "stdout",
     "output_type": "stream",
     "text": [
      "\n",
      "\n",
      "Full Variable Test with C = 0.1:\n",
      "Intercept:\n",
      " [-7.956] \n",
      "Coefficients:\n",
      " [[-0.013  0.603 -0.113  0.113 -0.242  0.366 -0.124  0.238 -0.238]]\n",
      "\n",
      "\n",
      "Full Variable Test with C = 1:\n",
      "Intercept:\n",
      " [-9.926] \n",
      "Coefficients:\n",
      " [[-0.025  0.776 -0.261  0.261 -0.721  1.185 -0.464  0.665 -0.665]]\n"
     ]
    }
   ],
   "source": [
    "# Code for Question 4\n",
    "\n",
    "#Fits, does the intercept/coef print, just like before.\n",
    "fulltestLR1 = LogisticRegression(C=0.1)\n",
    "fulltestLR1.fit(X_train,y_train)\n",
    "print(\"\\n\\nFull Variable Test with C = 0.1:\")\n",
    "print(f\"Intercept:\\n {fulltestLR1.intercept_.round(3)} \\nCoefficients:\\n {fulltestLR1.coef_.round(3)}\")\n",
    "\n",
    "fulltestLR2 = LogisticRegression(C=1)\n",
    "fulltestLR2.fit(X_train,y_train)\n",
    "print(\"\\n\\nFull Variable Test with C = 1:\")\n",
    "print(f\"Intercept:\\n {fulltestLR2.intercept_.round(3)} \\nCoefficients:\\n {fulltestLR2.coef_.round(3)}\")\n",
    "\n",
    "#7 pts"
   ]
  },
  {
   "cell_type": "markdown",
   "metadata": {
    "id": "3Jc2UNoYnGhD"
   },
   "source": [
    "* Describe the differences between the fitted model parameters obtained from the two models here.\n",
    "\n",
    "**YOUR ANSWER:** [1 pt] \n",
    "The coefficients and Intercepts are wildly different in terms of magnitudes, but when considering relative differences, we notice that the F.V.T. with C = 1 has most coefficients at double or triple that of the C=0.1. Further than that both classifiers gave the same sign (+/-) to each cooefficient."
   ]
  },
  {
   "cell_type": "markdown",
   "metadata": {
    "id": "qMUsdjPfU-lh"
   },
   "source": [
    "## Question 5: /15 pts\n",
    "\n",
    "In the cell below, compute the 4 label-based criteria we mentioned in Question 3.2 for the two new classifiers using the test data. (You don't have to copy the function down into this cell; just call it again here.) Use a threshold of 0.5. "
   ]
  },
  {
   "cell_type": "code",
   "execution_count": 13,
   "metadata": {
    "id": "BWsf59jcU-li"
   },
   "outputs": [
    {
     "name": "stdout",
     "output_type": "stream",
     "text": [
      "Computing Performance Classifiers for Full Test with C = 0.1\n",
      "True Positives: 25 \n",
      "True Negatives: 24\n",
      "False Positives: 0\n",
      "False Negatives: 1\n",
      "Accuracy: 0.98 Recall: 0.9615 Sensitivity: 0.9615 Specificity: 1.0\n",
      "Baseline Accuracy: 0.51\n",
      "\n",
      "\n",
      "Computing Performance Classifiers for Full Test with C = 1\n",
      "True Positives: 24 \n",
      "True Negatives: 24\n",
      "False Positives: 0\n",
      "False Negatives: 2\n",
      "Accuracy: 0.96 Recall: 0.9231 Sensitivity: 0.9231 Specificity: 1.0\n",
      "Baseline Accuracy: 0.51\n"
     ]
    }
   ],
   "source": [
    "# Code for  Code for answering questions in the below cell\n",
    "\n",
    "#Self explanatory from earlier\n",
    "print(\"Computing Performance Classifiers for Full Test with C = 0.1\")\n",
    "y_full_test_prob_1 = fulltestLR1.predict_proba(X_test)\n",
    "y_full_prob_1 = fulltestLR1.classes_[(y_full_test_prob_1[:,1]>threshold).astype(int)]\n",
    "compute_performance_classifiers(y_full_prob_1,y_test,fulltestLR1.classes_)\n",
    "print(f\"Baseline Accuracy: {baseline}\")\n",
    "\n",
    "\n",
    "print(\"\\n\\nComputing Performance Classifiers for Full Test with C = 1\")\n",
    "y_full_test_prob_2 = fulltestLR2.predict_proba(X_test)\n",
    "y_full_prob_2 = fulltestLR2.classes_[(y_full_test_prob_2[:,1]>threshold).astype(int)]\n",
    "compute_performance_classifiers(y_full_prob_2,y_test,fulltestLR2.classes_)\n",
    "print(f\"Baseline Accuracy: {baseline}\")\n",
    "\n",
    "#9 pts"
   ]
  },
  {
   "cell_type": "markdown",
   "metadata": {
    "id": "kXXGvWDYU-lj"
   },
   "source": [
    "* How many of the test instances are respectively labeled positive by the two classifiers?\n",
    "\n",
    "**YOUR ANSWER:** [3 pts] For the C=0.1, we have 25 positive labels, whereas in the C=1, we have 24 positive labels. \n",
    "\n",
    "* Among the classifiers in Questions 3 and 4, which one is the **best classifier** for classifying Drug? Explain the possible reason in one or two sentences.\n",
    "\n",
    "**YOUR ANSWER:** [3 pts] The inherient lack of data from only having 200 points to work with fundamentally makes it such that we could easily get much worse performance for a greater data set. With that in mind still, the Full Test with C=0.1 performed the best, and as such it is the best at classifying Drug."
   ]
  },
  {
   "cell_type": "markdown",
   "metadata": {
    "id": "BtWayoFDU-lk"
   },
   "source": [
    "## Question 6: /14 pts\n",
    "In the cell below, predict the class coding your own sigmoid function (do NOT use  the predict function from sklear). Compare the first 5 rows using the three models constructed in question 4 and question 5."
   ]
  },
  {
   "cell_type": "code",
   "execution_count": 14,
   "metadata": {
    "id": "5zYNJn57U-ll"
   },
   "outputs": [
    {
     "name": "stdout",
     "output_type": "stream",
     "text": [
      "[[0 1 1 0 1]] [[0 1 1 0 1]] [[0 1 1 0 1]]\n",
      "[0 1 1 0 1] [0 1 1 0 1] [0 1 1 0 1]\n"
     ]
    }
   ],
   "source": [
    "# Your code here\n",
    "\n",
    "#Creates a function for sigmoid (for fun) and class_predictor\n",
    "#Returns manual(as manual as a program can be) predictions\n",
    "def sigmoid(x):\n",
    "    return 1 / (1+np.exp(-x))\n",
    "def class_predictor(X,intercept,coeff):\n",
    "    #calculate linear combination\n",
    "    z = intercept + X@coeff.T\n",
    "    pred_probabilities = sigmoid(z)\n",
    "    class_pred = (pred_probabilities > 0.5).astype(int)\n",
    "    return class_pred\n",
    "\n",
    "\n",
    "age_na_test_class_pred = class_predictor(age_na_test,drugLR.intercept_,drugLR.coef_)\n",
    "full_test_1_class_pred = class_predictor(X_test,fulltestLR1.intercept_,fulltestLR1.coef_)\n",
    "full_test_2_class_pred = class_predictor(X_test, fulltestLR2.intercept_, fulltestLR2.coef_)\n",
    "\n",
    "#Prints our findings for quick and dirty comparison.\n",
    "print(age_na_test_class_pred[:5].T,full_test_1_class_pred[:5].T,full_test_2_class_pred[:5].T)\n",
    "print(drugLR.predict(age_na_test)[:5],fulltestLR1.predict(X_test)[:5],fulltestLR2.predict(X_test)[:5])\n",
    "\n",
    "#8 pts"
   ]
  },
  {
   "cell_type": "markdown",
   "metadata": {
    "id": "0HUOZPnzU-ln"
   },
   "source": [
    "* Is the probability given by the sigmoid function the probability of a case being negative?\n",
    "\n",
    "**YOUR ANSWER:**[3pts] No, the probability given by the sigmoid f'n returns the probability of a case being positive.\n",
    "\n",
    "* By just looking over the first 5 cases, how does the probabilities obtained from the two classifiers in Question 4 changes? Does the change of probability actually change the classification results for the first 5 cases?\n",
    "\n",
    "**YOUR ANSWER:**[3pts] It does not change for the first five cases, and as such, we can assume very little overall changes. No, it does not change the classification results."
   ]
  },
  {
   "cell_type": "markdown",
   "metadata": {
    "id": "08R44Tq-U-lo"
   },
   "source": [
    "# Question 7: /7 pts\n",
    "\n",
    "Plot ROC curves for all of your classifiers using the cells below, then answer the following questions, computing whatever quantities you need to answer them."
   ]
  },
  {
   "cell_type": "code",
   "execution_count": 15,
   "metadata": {
    "id": "IGol7oXQ51Eo"
   },
   "outputs": [
    {
     "data": {
      "image/png": "[encoded data removed]",
      "text/plain": [
       "<Figure size 640x480 with 1 Axes>"
      ]
     },
     "metadata": {},
     "output_type": "display_data"
    }
   ],
   "source": [
    "# Your code here\n",
    "#Made this into a function to cut down typing.\n",
    "def roc_curve_get(y_test,y_test_prob,pos_label,):\n",
    "    false_pos_rate, true_pos_rate, _ = roc_curve(y_test,y_test_prob,pos_label=pos_label)\n",
    "    return false_pos_rate, true_pos_rate, _\n",
    "\n",
    "#Retrieves all the data for Roc\n",
    "fpr_i,tpr_i,_ = roc_curve_get(y_test,y_prob,drugLR.classes_[1])\n",
    "fpr_1,tpr_1,_ = roc_curve_get(y_test,y_full_prob_1,fulltestLR1.classes_[1])\n",
    "fpr_2, tpr_2, _ = roc_curve_get(y_test,y_full_prob_2,fulltestLR2.classes_[1])\n",
    "\n",
    "#Creates plot window, titles and labels x/y\n",
    "fig, ax = plt.subplots()\n",
    "plt.title(\"ROC Curve of Three Classifiers\")\n",
    "ax.set_xlabel(\"False Positive Rate\")\n",
    "ax.set_ylabel(\"True Positive Rate\")\n",
    "\n",
    "#Puts data into plot, labels it.\n",
    "ax = sns.lineplot(x=fpr_i,y=tpr_1,label=\"Initial Two-Var Fit\")\n",
    "ax2 = sns.lineplot(x=fpr_1,y=tpr_1,label=\"Full Var Fit w/ C=0.1\")\n",
    "ax3 = sns.lineplot(x=fpr_2, y=tpr_2, label=\"Full Var Fit w/ C=1\")\n",
    "\n",
    "#Finds area under curve for each line, and displays as annotation.\n",
    "auci = auc(fpr_i,tpr_i)\n",
    "auc1 = auc(fpr_1,tpr_1)\n",
    "auc2 = auc(fpr_2, tpr_2)\n",
    "\n",
    "plt.annotate(f\"Auc Initial = {round(auci,4)}\\nAuc w/ C=0.1 = {round(auc1,4)}\\nAuc w/ C=1 = {round(auc2,4)}\",xy=(.5,.4))\n",
    "\n",
    "plt.show()\n",
    "#6 pts"
   ]
  },
  {
   "cell_type": "markdown",
   "metadata": {
    "id": "XS6tI4eaU-lp"
   },
   "source": [
    "* Which classifier has a highest estimated probability of correctly distinguishing between a positive and a negative instance? How do you know?\n",
    "\n",
    "**YOUR ANSWER:** [1 pts] Due to the area under curve being the probability that the classifier will get a prediction right, we can then see that the C=0.1 classifier has the greatest accuracy.\n"
   ]
  },
  {
   "cell_type": "markdown",
   "metadata": {},
   "source": [
    "# Question 8: /11 pts\n",
    "\n",
    "Multiclass Logistic Regression\n",
    "\n",
    "In the classification lab, we trained a binary LR classifier using the _mnist_ dataset to discriminate entries which were equal to 5 from the rest. This time you have 10 classes i.e., 0, 1, 2, 3, 4, 5, 6, 7, 8, and 9. Use the same dataset and `SGDClassifier` to tain a multiclass logistic regression model with `l2` regularization. For training, include these arguments too: `max_iter=2000`, `tol=1e-3`, `random_state=seed`. For computation speed-up, some `sklearn` functions take the argument `n_jobs=N` to run in parallel. A good value for N can be the number of physical CPU cores that your machine possesses. Check the documentations of the functions to take advantage from this where applicable. For splitting the data use `test_size=0.5` and `random_state=seed`.\n",
    "\n",
    "Put your classifier and the `StandardScaler()` into a pipeline using `make_pipeline`. Therefore, your final model will be a pipeline that always standardizes the data before feeding it to the classifier. Use the `classification_report` to report the performance of your final model (*i.e.*, the pipeline) over the **test set**.\n",
    "\n"
   ]
  },
  {
   "cell_type": "code",
   "execution_count": 16,
   "metadata": {},
   "outputs": [
    {
     "ename": "ValueError",
     "evalue": "Expected 2D array, got 1D array instead:\narray=[  0.   0.   0.   0.   0.   0.   0.   0.   0.   0.   0.   0.   0.   0.\n   0.   0.   0.   0.   0.   0.   0.   0.   0.   0.   0.   0.   0.   0.\n   0.   0.   0.   0.   0.   0.   0.   0.   0.   0.   0.   0.   0.   0.\n   0.   0.   0.   0.   0.   0.   0.   0.   0.   0.   0.   0.   0.   0.\n   0.   0.   0.   0.   0.   0.   0.   0.   0.   0.   0.   0.   0.   0.\n   0.   0.   0.   0.   0.   0.   0.   0.   0.   0.   0.   0.   0.   0.\n   0.   0.   0.   0.   0.   0.   0.   0.   0.   0.   0.   0.   0.   0.\n   0.   0.   0.   0.   0.   0.   0.   0.   0.   0.   0.   0.   0.   0.\n   0.   0.   0.   0.   0.   0.   0.   0.   0.   0.   0.   0.   0.   0.\n   0.   0.   0.   0.   0.   0.   0.   0.   0.   0.   0.   0.   0.   0.\n   0.   0.   0.   0.   0.   0.   0.   0.   0.   0.   0.   0.   3.  18.\n  18.  18. 126. 136. 175.  26. 166. 255. 247. 127.   0.   0.   0.   0.\n   0.   0.   0.   0.   0.   0.   0.   0.  30.  36.  94. 154. 170. 253.\n 253. 253. 253. 253. 225. 172. 253. 242. 195.  64.   0.   0.   0.   0.\n   0.   0.   0.   0.   0.   0.   0.  49. 238. 253. 253. 253. 253. 253.\n 253. 253. 253. 251.  93.  82.  82.  56.  39.   0.   0.   0.   0.   0.\n   0.   0.   0.   0.   0.   0.   0.  18. 219. 253. 253. 253. 253. 253.\n 198. 182. 247. 241.   0.   0.   0.   0.   0.   0.   0.   0.   0.   0.\n   0.   0.   0.   0.   0.   0.   0.   0.  80. 156. 107. 253. 253. 205.\n  11.   0.  43. 154.   0.   0.   0.   0.   0.   0.   0.   0.   0.   0.\n   0.   0.   0.   0.   0.   0.   0.   0.   0.  14.   1. 154. 253.  90.\n   0.   0.   0.   0.   0.   0.   0.   0.   0.   0.   0.   0.   0.   0.\n   0.   0.   0.   0.   0.   0.   0.   0.   0.   0.   0. 139. 253. 190.\n   2.   0.   0.   0.   0.   0.   0.   0.   0.   0.   0.   0.   0.   0.\n   0.   0.   0.   0.   0.   0.   0.   0.   0.   0.   0.  11. 190. 253.\n  70.   0.   0.   0.   0.   0.   0.   0.   0.   0.   0.   0.   0.   0.\n   0.   0.   0.   0.   0.   0.   0.   0.   0.   0.   0.   0.  35. 241.\n 225. 160. 108.   1.   0.   0.   0.   0.   0.   0.   0.   0.   0.   0.\n   0.   0.   0.   0.   0.   0.   0.   0.   0.   0.   0.   0.   0.  81.\n 240. 253. 253. 119.  25.   0.   0.   0.   0.   0.   0.   0.   0.   0.\n   0.   0.   0.   0.   0.   0.   0.   0.   0.   0.   0.   0.   0.   0.\n  45. 186. 253. 253. 150.  27.   0.   0.   0.   0.   0.   0.   0.   0.\n   0.   0.   0.   0.   0.   0.   0.   0.   0.   0.   0.   0.   0.   0.\n   0.  16.  93. 252. 253. 187.   0.   0.   0.   0.   0.   0.   0.   0.\n   0.   0.   0.   0.   0.   0.   0.   0.   0.   0.   0.   0.   0.   0.\n   0.   0.   0. 249. 253. 249.  64.   0.   0.   0.   0.   0.   0.   0.\n   0.   0.   0.   0.   0.   0.   0.   0.   0.   0.   0.   0.   0.   0.\n  46. 130. 183. 253. 253. 207.   2.   0.   0.   0.   0.   0.   0.   0.\n   0.   0.   0.   0.   0.   0.   0.   0.   0.   0.   0.   0.  39. 148.\n 229. 253. 253. 253. 250. 182.   0.   0.   0.   0.   0.   0.   0.   0.\n   0.   0.   0.   0.   0.   0.   0.   0.   0.   0.  24. 114. 221. 253.\n 253. 253. 253. 201.  78.   0.   0.   0.   0.   0.   0.   0.   0.   0.\n   0.   0.   0.   0.   0.   0.   0.   0.  23.  66. 213. 253. 253. 253.\n 253. 198.  81.   2.   0.   0.   0.   0.   0.   0.   0.   0.   0.   0.\n   0.   0.   0.   0.   0.   0.  18. 171. 219. 253. 253. 253. 253. 195.\n  80.   9.   0.   0.   0.   0.   0.   0.   0.   0.   0.   0.   0.   0.\n   0.   0.   0.   0.  55. 172. 226. 253. 253. 253. 253. 244. 133.  11.\n   0.   0.   0.   0.   0.   0.   0.   0.   0.   0.   0.   0.   0.   0.\n   0.   0.   0.   0. 136. 253. 253. 253. 212. 135. 132.  16.   0.   0.\n   0.   0.   0.   0.   0.   0.   0.   0.   0.   0.   0.   0.   0.   0.\n   0.   0.   0.   0.   0.   0.   0.   0.   0.   0.   0.   0.   0.   0.\n   0.   0.   0.   0.   0.   0.   0.   0.   0.   0.   0.   0.   0.   0.\n   0.   0.   0.   0.   0.   0.   0.   0.   0.   0.   0.   0.   0.   0.\n   0.   0.   0.   0.   0.   0.   0.   0.   0.   0.   0.   0.   0.   0.\n   0.   0.   0.   0.   0.   0.   0.   0.   0.   0.   0.   0.   0.   0.\n   0.   0.   0.   0.   0.   0.   0.   0.   0.   0.   0.   0.   0.   0.].\nReshape your data either using array.reshape(-1, 1) if your data has a single feature or array.reshape(1, -1) if it contains a single sample.",
     "output_type": "error",
     "traceback": [
      "\u001b[1;31m---------------------------------------------------------------------------\u001b[0m",
      "\u001b[1;31mValueError\u001b[0m                                Traceback (most recent call last)",
      "\u001b[1;32m~\\AppData\\Local\\Temp\\ipykernel_49080\\2490096288.py\u001b[0m in \u001b[0;36m<module>\u001b[1;34m\u001b[0m\n\u001b[0;32m     15\u001b[0m \u001b[0mSGD_Classifier\u001b[0m\u001b[1;33m.\u001b[0m\u001b[0mfit\u001b[0m\u001b[1;33m(\u001b[0m\u001b[0mX_train\u001b[0m\u001b[1;33m,\u001b[0m\u001b[0my_train\u001b[0m\u001b[1;33m)\u001b[0m\u001b[1;33m\u001b[0m\u001b[1;33m\u001b[0m\u001b[0m\n\u001b[0;32m     16\u001b[0m \u001b[1;33m\u001b[0m\u001b[0m\n\u001b[1;32m---> 17\u001b[1;33m \u001b[0mSGD_Classifier\u001b[0m\u001b[1;33m.\u001b[0m\u001b[0mpredict\u001b[0m\u001b[1;33m(\u001b[0m\u001b[0mX\u001b[0m\u001b[1;33m[\u001b[0m\u001b[1;36m0\u001b[0m\u001b[1;33m]\u001b[0m\u001b[1;33m)\u001b[0m\u001b[1;33m\u001b[0m\u001b[1;33m\u001b[0m\u001b[0m\n\u001b[0m\u001b[0;32m     18\u001b[0m \u001b[1;33m\u001b[0m\u001b[0m\n\u001b[0;32m     19\u001b[0m \u001b[1;31m#Got too tired and this is all I wrote down.\u001b[0m\u001b[1;33m\u001b[0m\u001b[1;33m\u001b[0m\u001b[0m\n",
      "\u001b[1;32m~\\anaconda3\\lib\\site-packages\\sklearn\\linear_model\\_base.py\u001b[0m in \u001b[0;36mpredict\u001b[1;34m(self, X)\u001b[0m\n\u001b[0;32m    423\u001b[0m             \u001b[0mVector\u001b[0m \u001b[0mcontaining\u001b[0m \u001b[0mthe\u001b[0m \u001b[1;32mclass\u001b[0m \u001b[0mlabels\u001b[0m \u001b[1;32mfor\u001b[0m \u001b[0meach\u001b[0m \u001b[0msample\u001b[0m\u001b[1;33m.\u001b[0m\u001b[1;33m\u001b[0m\u001b[1;33m\u001b[0m\u001b[0m\n\u001b[0;32m    424\u001b[0m         \"\"\"\n\u001b[1;32m--> 425\u001b[1;33m         \u001b[0mscores\u001b[0m \u001b[1;33m=\u001b[0m \u001b[0mself\u001b[0m\u001b[1;33m.\u001b[0m\u001b[0mdecision_function\u001b[0m\u001b[1;33m(\u001b[0m\u001b[0mX\u001b[0m\u001b[1;33m)\u001b[0m\u001b[1;33m\u001b[0m\u001b[1;33m\u001b[0m\u001b[0m\n\u001b[0m\u001b[0;32m    426\u001b[0m         \u001b[1;32mif\u001b[0m \u001b[0mlen\u001b[0m\u001b[1;33m(\u001b[0m\u001b[0mscores\u001b[0m\u001b[1;33m.\u001b[0m\u001b[0mshape\u001b[0m\u001b[1;33m)\u001b[0m \u001b[1;33m==\u001b[0m \u001b[1;36m1\u001b[0m\u001b[1;33m:\u001b[0m\u001b[1;33m\u001b[0m\u001b[1;33m\u001b[0m\u001b[0m\n\u001b[0;32m    427\u001b[0m             \u001b[0mindices\u001b[0m \u001b[1;33m=\u001b[0m \u001b[1;33m(\u001b[0m\u001b[0mscores\u001b[0m \u001b[1;33m>\u001b[0m \u001b[1;36m0\u001b[0m\u001b[1;33m)\u001b[0m\u001b[1;33m.\u001b[0m\u001b[0mastype\u001b[0m\u001b[1;33m(\u001b[0m\u001b[0mint\u001b[0m\u001b[1;33m)\u001b[0m\u001b[1;33m\u001b[0m\u001b[1;33m\u001b[0m\u001b[0m\n",
      "\u001b[1;32m~\\anaconda3\\lib\\site-packages\\sklearn\\linear_model\\_base.py\u001b[0m in \u001b[0;36mdecision_function\u001b[1;34m(self, X)\u001b[0m\n\u001b[0;32m    405\u001b[0m         \u001b[0mcheck_is_fitted\u001b[0m\u001b[1;33m(\u001b[0m\u001b[0mself\u001b[0m\u001b[1;33m)\u001b[0m\u001b[1;33m\u001b[0m\u001b[1;33m\u001b[0m\u001b[0m\n\u001b[0;32m    406\u001b[0m \u001b[1;33m\u001b[0m\u001b[0m\n\u001b[1;32m--> 407\u001b[1;33m         \u001b[0mX\u001b[0m \u001b[1;33m=\u001b[0m \u001b[0mself\u001b[0m\u001b[1;33m.\u001b[0m\u001b[0m_validate_data\u001b[0m\u001b[1;33m(\u001b[0m\u001b[0mX\u001b[0m\u001b[1;33m,\u001b[0m \u001b[0maccept_sparse\u001b[0m\u001b[1;33m=\u001b[0m\u001b[1;34m\"csr\"\u001b[0m\u001b[1;33m,\u001b[0m \u001b[0mreset\u001b[0m\u001b[1;33m=\u001b[0m\u001b[1;32mFalse\u001b[0m\u001b[1;33m)\u001b[0m\u001b[1;33m\u001b[0m\u001b[1;33m\u001b[0m\u001b[0m\n\u001b[0m\u001b[0;32m    408\u001b[0m         \u001b[0mscores\u001b[0m \u001b[1;33m=\u001b[0m \u001b[0msafe_sparse_dot\u001b[0m\u001b[1;33m(\u001b[0m\u001b[0mX\u001b[0m\u001b[1;33m,\u001b[0m \u001b[0mself\u001b[0m\u001b[1;33m.\u001b[0m\u001b[0mcoef_\u001b[0m\u001b[1;33m.\u001b[0m\u001b[0mT\u001b[0m\u001b[1;33m,\u001b[0m \u001b[0mdense_output\u001b[0m\u001b[1;33m=\u001b[0m\u001b[1;32mTrue\u001b[0m\u001b[1;33m)\u001b[0m \u001b[1;33m+\u001b[0m \u001b[0mself\u001b[0m\u001b[1;33m.\u001b[0m\u001b[0mintercept_\u001b[0m\u001b[1;33m\u001b[0m\u001b[1;33m\u001b[0m\u001b[0m\n\u001b[0;32m    409\u001b[0m         \u001b[1;32mreturn\u001b[0m \u001b[0mscores\u001b[0m\u001b[1;33m.\u001b[0m\u001b[0mravel\u001b[0m\u001b[1;33m(\u001b[0m\u001b[1;33m)\u001b[0m \u001b[1;32mif\u001b[0m \u001b[0mscores\u001b[0m\u001b[1;33m.\u001b[0m\u001b[0mshape\u001b[0m\u001b[1;33m[\u001b[0m\u001b[1;36m1\u001b[0m\u001b[1;33m]\u001b[0m \u001b[1;33m==\u001b[0m \u001b[1;36m1\u001b[0m \u001b[1;32melse\u001b[0m \u001b[0mscores\u001b[0m\u001b[1;33m\u001b[0m\u001b[1;33m\u001b[0m\u001b[0m\n",
      "\u001b[1;32m~\\anaconda3\\lib\\site-packages\\sklearn\\base.py\u001b[0m in \u001b[0;36m_validate_data\u001b[1;34m(self, X, y, reset, validate_separately, **check_params)\u001b[0m\n\u001b[0;32m    564\u001b[0m             \u001b[1;32mraise\u001b[0m \u001b[0mValueError\u001b[0m\u001b[1;33m(\u001b[0m\u001b[1;34m\"Validation should be done on X, y or both.\"\u001b[0m\u001b[1;33m)\u001b[0m\u001b[1;33m\u001b[0m\u001b[1;33m\u001b[0m\u001b[0m\n\u001b[0;32m    565\u001b[0m         \u001b[1;32melif\u001b[0m \u001b[1;32mnot\u001b[0m \u001b[0mno_val_X\u001b[0m \u001b[1;32mand\u001b[0m \u001b[0mno_val_y\u001b[0m\u001b[1;33m:\u001b[0m\u001b[1;33m\u001b[0m\u001b[1;33m\u001b[0m\u001b[0m\n\u001b[1;32m--> 566\u001b[1;33m             \u001b[0mX\u001b[0m \u001b[1;33m=\u001b[0m \u001b[0mcheck_array\u001b[0m\u001b[1;33m(\u001b[0m\u001b[0mX\u001b[0m\u001b[1;33m,\u001b[0m \u001b[1;33m**\u001b[0m\u001b[0mcheck_params\u001b[0m\u001b[1;33m)\u001b[0m\u001b[1;33m\u001b[0m\u001b[1;33m\u001b[0m\u001b[0m\n\u001b[0m\u001b[0;32m    567\u001b[0m             \u001b[0mout\u001b[0m \u001b[1;33m=\u001b[0m \u001b[0mX\u001b[0m\u001b[1;33m\u001b[0m\u001b[1;33m\u001b[0m\u001b[0m\n\u001b[0;32m    568\u001b[0m         \u001b[1;32melif\u001b[0m \u001b[0mno_val_X\u001b[0m \u001b[1;32mand\u001b[0m \u001b[1;32mnot\u001b[0m \u001b[0mno_val_y\u001b[0m\u001b[1;33m:\u001b[0m\u001b[1;33m\u001b[0m\u001b[1;33m\u001b[0m\u001b[0m\n",
      "\u001b[1;32m~\\anaconda3\\lib\\site-packages\\sklearn\\utils\\validation.py\u001b[0m in \u001b[0;36mcheck_array\u001b[1;34m(array, accept_sparse, accept_large_sparse, dtype, order, copy, force_all_finite, ensure_2d, allow_nd, ensure_min_samples, ensure_min_features, estimator)\u001b[0m\n\u001b[0;32m    767\u001b[0m             \u001b[1;31m# If input is 1D raise error\u001b[0m\u001b[1;33m\u001b[0m\u001b[1;33m\u001b[0m\u001b[0m\n\u001b[0;32m    768\u001b[0m             \u001b[1;32mif\u001b[0m \u001b[0marray\u001b[0m\u001b[1;33m.\u001b[0m\u001b[0mndim\u001b[0m \u001b[1;33m==\u001b[0m \u001b[1;36m1\u001b[0m\u001b[1;33m:\u001b[0m\u001b[1;33m\u001b[0m\u001b[1;33m\u001b[0m\u001b[0m\n\u001b[1;32m--> 769\u001b[1;33m                 raise ValueError(\n\u001b[0m\u001b[0;32m    770\u001b[0m                     \u001b[1;34m\"Expected 2D array, got 1D array instead:\\narray={}.\\n\"\u001b[0m\u001b[1;33m\u001b[0m\u001b[1;33m\u001b[0m\u001b[0m\n\u001b[0;32m    771\u001b[0m                     \u001b[1;34m\"Reshape your data either using array.reshape(-1, 1) if \"\u001b[0m\u001b[1;33m\u001b[0m\u001b[1;33m\u001b[0m\u001b[0m\n",
      "\u001b[1;31mValueError\u001b[0m: Expected 2D array, got 1D array instead:\narray=[  0.   0.   0.   0.   0.   0.   0.   0.   0.   0.   0.   0.   0.   0.\n   0.   0.   0.   0.   0.   0.   0.   0.   0.   0.   0.   0.   0.   0.\n   0.   0.   0.   0.   0.   0.   0.   0.   0.   0.   0.   0.   0.   0.\n   0.   0.   0.   0.   0.   0.   0.   0.   0.   0.   0.   0.   0.   0.\n   0.   0.   0.   0.   0.   0.   0.   0.   0.   0.   0.   0.   0.   0.\n   0.   0.   0.   0.   0.   0.   0.   0.   0.   0.   0.   0.   0.   0.\n   0.   0.   0.   0.   0.   0.   0.   0.   0.   0.   0.   0.   0.   0.\n   0.   0.   0.   0.   0.   0.   0.   0.   0.   0.   0.   0.   0.   0.\n   0.   0.   0.   0.   0.   0.   0.   0.   0.   0.   0.   0.   0.   0.\n   0.   0.   0.   0.   0.   0.   0.   0.   0.   0.   0.   0.   0.   0.\n   0.   0.   0.   0.   0.   0.   0.   0.   0.   0.   0.   0.   3.  18.\n  18.  18. 126. 136. 175.  26. 166. 255. 247. 127.   0.   0.   0.   0.\n   0.   0.   0.   0.   0.   0.   0.   0.  30.  36.  94. 154. 170. 253.\n 253. 253. 253. 253. 225. 172. 253. 242. 195.  64.   0.   0.   0.   0.\n   0.   0.   0.   0.   0.   0.   0.  49. 238. 253. 253. 253. 253. 253.\n 253. 253. 253. 251.  93.  82.  82.  56.  39.   0.   0.   0.   0.   0.\n   0.   0.   0.   0.   0.   0.   0.  18. 219. 253. 253. 253. 253. 253.\n 198. 182. 247. 241.   0.   0.   0.   0.   0.   0.   0.   0.   0.   0.\n   0.   0.   0.   0.   0.   0.   0.   0.  80. 156. 107. 253. 253. 205.\n  11.   0.  43. 154.   0.   0.   0.   0.   0.   0.   0.   0.   0.   0.\n   0.   0.   0.   0.   0.   0.   0.   0.   0.  14.   1. 154. 253.  90.\n   0.   0.   0.   0.   0.   0.   0.   0.   0.   0.   0.   0.   0.   0.\n   0.   0.   0.   0.   0.   0.   0.   0.   0.   0.   0. 139. 253. 190.\n   2.   0.   0.   0.   0.   0.   0.   0.   0.   0.   0.   0.   0.   0.\n   0.   0.   0.   0.   0.   0.   0.   0.   0.   0.   0.  11. 190. 253.\n  70.   0.   0.   0.   0.   0.   0.   0.   0.   0.   0.   0.   0.   0.\n   0.   0.   0.   0.   0.   0.   0.   0.   0.   0.   0.   0.  35. 241.\n 225. 160. 108.   1.   0.   0.   0.   0.   0.   0.   0.   0.   0.   0.\n   0.   0.   0.   0.   0.   0.   0.   0.   0.   0.   0.   0.   0.  81.\n 240. 253. 253. 119.  25.   0.   0.   0.   0.   0.   0.   0.   0.   0.\n   0.   0.   0.   0.   0.   0.   0.   0.   0.   0.   0.   0.   0.   0.\n  45. 186. 253. 253. 150.  27.   0.   0.   0.   0.   0.   0.   0.   0.\n   0.   0.   0.   0.   0.   0.   0.   0.   0.   0.   0.   0.   0.   0.\n   0.  16.  93. 252. 253. 187.   0.   0.   0.   0.   0.   0.   0.   0.\n   0.   0.   0.   0.   0.   0.   0.   0.   0.   0.   0.   0.   0.   0.\n   0.   0.   0. 249. 253. 249.  64.   0.   0.   0.   0.   0.   0.   0.\n   0.   0.   0.   0.   0.   0.   0.   0.   0.   0.   0.   0.   0.   0.\n  46. 130. 183. 253. 253. 207.   2.   0.   0.   0.   0.   0.   0.   0.\n   0.   0.   0.   0.   0.   0.   0.   0.   0.   0.   0.   0.  39. 148.\n 229. 253. 253. 253. 250. 182.   0.   0.   0.   0.   0.   0.   0.   0.\n   0.   0.   0.   0.   0.   0.   0.   0.   0.   0.  24. 114. 221. 253.\n 253. 253. 253. 201.  78.   0.   0.   0.   0.   0.   0.   0.   0.   0.\n   0.   0.   0.   0.   0.   0.   0.   0.  23.  66. 213. 253. 253. 253.\n 253. 198.  81.   2.   0.   0.   0.   0.   0.   0.   0.   0.   0.   0.\n   0.   0.   0.   0.   0.   0.  18. 171. 219. 253. 253. 253. 253. 195.\n  80.   9.   0.   0.   0.   0.   0.   0.   0.   0.   0.   0.   0.   0.\n   0.   0.   0.   0.  55. 172. 226. 253. 253. 253. 253. 244. 133.  11.\n   0.   0.   0.   0.   0.   0.   0.   0.   0.   0.   0.   0.   0.   0.\n   0.   0.   0.   0. 136. 253. 253. 253. 212. 135. 132.  16.   0.   0.\n   0.   0.   0.   0.   0.   0.   0.   0.   0.   0.   0.   0.   0.   0.\n   0.   0.   0.   0.   0.   0.   0.   0.   0.   0.   0.   0.   0.   0.\n   0.   0.   0.   0.   0.   0.   0.   0.   0.   0.   0.   0.   0.   0.\n   0.   0.   0.   0.   0.   0.   0.   0.   0.   0.   0.   0.   0.   0.\n   0.   0.   0.   0.   0.   0.   0.   0.   0.   0.   0.   0.   0.   0.\n   0.   0.   0.   0.   0.   0.   0.   0.   0.   0.   0.   0.   0.   0.\n   0.   0.   0.   0.   0.   0.   0.   0.   0.   0.   0.   0.   0.   0.].\nReshape your data either using array.reshape(-1, 1) if your data has a single feature or array.reshape(1, -1) if it contains a single sample."
     ]
    }
   ],
   "source": [
    "# code here\n",
    "\n",
    "#Just got too tired working on this\n",
    "from sklearn.datasets import fetch_openml # a helper function to download popular datasets\n",
    "mnist = fetch_openml('mnist_784', version=1, as_frame=False)\n",
    "X = mnist[\"data\"]\n",
    "y = mnist[\"target\"]\n",
    "y = y.astype(np.uint8)\n",
    "#y =  pd.DataFrame(mnist[\"target\"])\n",
    "#y = pd.get_dummies(y).values\n",
    "\n",
    "X_train, X_test, y_train, y_test = train_test_split(X, y, test_size=0.5, random_state=11)\n",
    "\n",
    "SGD_Classifier = SGDClassifier(max_iter=2000,tol=1e-3,random_state=11,n_jobs=6)\n",
    "SGD_Classifier.fit(X_train,y_train)\n",
    "\n",
    "SGD_Classifier.predict(X[0])\n",
    "\n",
    "#Got too tired and this is all I wrote down.\n",
    "#9 pts"
   ]
  },
  {
   "cell_type": "markdown",
   "metadata": {},
   "source": [
    "Let's see how the model generalizes to new data.\n",
    "\n",
    "You can run the cell below to see how well your model can recognize a digit written by the mouse cursor. Set the `final_model` variable according to the name choses for your pipeline, run the cell, draw on the pop-up canvas, and once you close the canvas you will see the result.\n",
    "\n",
    "This code will not work on headless servers such as Colab. You need to install the `tk-tools` package and run it locally."
   ]
  },
  {
   "cell_type": "code",
   "execution_count": null,
   "metadata": {},
   "outputs": [],
   "source": [
    "final_model =   # here use the name of your pipeline\n",
    "\n",
    "#!pip install tk-tools\n",
    "from tkinter import *\n",
    "import tkinter as tk\n",
    "from PIL import Image\n",
    "import io\n",
    "import matplotlib as mpl\n",
    "\n",
    "temp_file_name=\"TEMP_image_TEMP.jpg\"\n",
    "\n",
    "app = Tk()\n",
    "app.geometry(\"300x300\")\n",
    "\n",
    "canvas = tk.Canvas(app, bg='white')\n",
    "canvas.pack(anchor='nw', fill='both', expand=1)\n",
    "\n",
    "def get_x_and_y(event):\n",
    "    global lasx, lasy\n",
    "    lasx, lasy = event.x, event.y\n",
    "\n",
    "def draw_smth(event):\n",
    "    global lasx, lasy\n",
    "    canvas.create_line((lasx, lasy, event.x, event.y), fill='red', width=3.5)\n",
    "    lasx, lasy = event.x, event.y\n",
    "    ps = canvas.postscript(colormode = 'color')\n",
    "    img = Image.open(io.BytesIO(ps.encode('utf-8')))\n",
    "    img.save(temp_file_name)\n",
    "\n",
    "canvas.bind(\"<Button-1>\", get_x_and_y)\n",
    "canvas.bind(\"<B1-Motion>\", draw_smth)\n",
    "\n",
    "app.mainloop()\n",
    "\n",
    "img = Image.open(temp_file_name)\n",
    "#resize image to 28x28 pixels\n",
    "img = img.resize((28,28))\n",
    "#convert rgb to grayscale\n",
    "img = img.convert(\"L\")\n",
    "img = np.array(img)\n",
    "img = 255.0 - img\n",
    "print(\"Your input:\")\n",
    "plt.imshow(img, cmap = mpl.cm.binary); plt.axis(\"off\")\n",
    "plt.show()\n",
    "\n",
    "# reshaping to support our model input\n",
    "img = np.reshape(img, 28*28)\n",
    "#predicting the class\n",
    "print('Input recognized as ' + str(final_model.predict([img])[0])+'.')"
   ]
  },
  {
   "cell_type": "markdown",
   "metadata": {},
   "source": [
    "* Despite showing great scores in training and testing stages, why your model does not generalize well to new data?"
   ]
  },
  {
   "cell_type": "markdown",
   "metadata": {},
   "source": [
    "**YOUR ANSWER:** [2 pts]\n"
   ]
  }
 ],
 "metadata": {
  "colab": {
   "provenance": []
  },
  "kernelspec": {
   "display_name": "Python 3 (ipykernel)",
   "language": "python",
   "name": "python3"
  },
  "language_info": {
   "codemirror_mode": {
    "name": "ipython",
    "version": 3
   },
   "file_extension": ".py",
   "mimetype": "text/x-python",
   "name": "python",
   "nbconvert_exporter": "python",
   "pygments_lexer": "ipython3",
   "version": "3.9.13"
  },
  "latex_envs": {
   "LaTeX_envs_menu_present": true,
   "autoclose": false,
   "autocomplete": true,
   "bibliofile": "biblio.bib",
   "cite_by": "apalike",
   "current_citInitial": 1,
   "eqLabelWithNumbers": true,
   "eqNumInitial": 1,
   "hotkeys": {
    "equation": "Ctrl-E",
    "itemize": "Ctrl-I"
   },
   "labels_anchors": false,
   "latex_user_defs": false,
   "report_style_numbering": false,
   "user_envs_cfg": false
  },
  "toc": {
   "base_numbering": 1,
   "nav_menu": {},
   "number_sections": true,
   "sideBar": true,
   "skip_h1_title": false,
   "title_cell": "Table of Contents",
   "title_sidebar": "Contents",
   "toc_cell": false,
   "toc_position": {},
   "toc_section_display": true,
   "toc_window_display": false
  },
  "varInspector": {
   "cols": {
    "lenName": 16,
    "lenType": 16,
    "lenVar": 40
   },
   "kernels_config": {
    "python": {
     "delete_cmd_postfix": "",
     "delete_cmd_prefix": "del ",
     "library": "var_list.py",
     "varRefreshCmd": "print(var_dic_list())"
    },
    "r": {
     "delete_cmd_postfix": ") ",
     "delete_cmd_prefix": "rm(",
     "library": "var_list.r",
     "varRefreshCmd": "cat(var_dic_list()) "
    }
   },
   "types_to_exclude": [
    "module",
    "function",
    "builtin_function_or_method",
    "instance",
    "_Feature"
   ],
   "window_display": false
  }
 },
 "nbformat": 4,
 "nbformat_minor": 1
}
